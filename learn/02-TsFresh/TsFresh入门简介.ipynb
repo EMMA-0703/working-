{
 "cells": [
  {
   "cell_type": "code",
   "execution_count": 1,
   "metadata": {},
   "outputs": [],
   "source": [
    "from tsfresh.examples.robot_execution_failures import download_robot_execution_failures,load_robot_execution_failures\n"
   ]
  },
  {
   "cell_type": "code",
   "execution_count": 2,
   "metadata": {},
   "outputs": [],
   "source": [
    "download_robot_execution_failures()\n",
    "timeseries, y = load_robot_execution_failures()"
   ]
  },
  {
   "cell_type": "code",
   "execution_count": 3,
   "metadata": {},
   "outputs": [
    {
     "data": {
      "text/html": [
       "<div>\n",
       "<style scoped>\n",
       "    .dataframe tbody tr th:only-of-type {\n",
       "        vertical-align: middle;\n",
       "    }\n",
       "\n",
       "    .dataframe tbody tr th {\n",
       "        vertical-align: top;\n",
       "    }\n",
       "\n",
       "    .dataframe thead th {\n",
       "        text-align: right;\n",
       "    }\n",
       "</style>\n",
       "<table border=\"1\" class=\"dataframe\">\n",
       "  <thead>\n",
       "    <tr style=\"text-align: right;\">\n",
       "      <th></th>\n",
       "      <th>id</th>\n",
       "      <th>time</th>\n",
       "      <th>F_x</th>\n",
       "      <th>F_y</th>\n",
       "      <th>F_z</th>\n",
       "      <th>T_x</th>\n",
       "      <th>T_y</th>\n",
       "      <th>T_z</th>\n",
       "    </tr>\n",
       "  </thead>\n",
       "  <tbody>\n",
       "    <tr>\n",
       "      <th>count</th>\n",
       "      <td>1320.000000</td>\n",
       "      <td>1320.000000</td>\n",
       "      <td>1320.000000</td>\n",
       "      <td>1320.000000</td>\n",
       "      <td>1320.000000</td>\n",
       "      <td>1320.000000</td>\n",
       "      <td>1320.000000</td>\n",
       "      <td>1320.000000</td>\n",
       "    </tr>\n",
       "    <tr>\n",
       "      <th>mean</th>\n",
       "      <td>44.500000</td>\n",
       "      <td>7.000000</td>\n",
       "      <td>-2.345455</td>\n",
       "      <td>8.913636</td>\n",
       "      <td>-128.214394</td>\n",
       "      <td>-39.028030</td>\n",
       "      <td>-4.517424</td>\n",
       "      <td>0.868182</td>\n",
       "    </tr>\n",
       "    <tr>\n",
       "      <th>std</th>\n",
       "      <td>25.411399</td>\n",
       "      <td>4.322131</td>\n",
       "      <td>50.367960</td>\n",
       "      <td>45.845475</td>\n",
       "      <td>346.816091</td>\n",
       "      <td>147.269399</td>\n",
       "      <td>101.609308</td>\n",
       "      <td>18.317250</td>\n",
       "    </tr>\n",
       "    <tr>\n",
       "      <th>min</th>\n",
       "      <td>1.000000</td>\n",
       "      <td>0.000000</td>\n",
       "      <td>-260.000000</td>\n",
       "      <td>-353.000000</td>\n",
       "      <td>-1547.000000</td>\n",
       "      <td>-672.000000</td>\n",
       "      <td>-646.000000</td>\n",
       "      <td>-137.000000</td>\n",
       "    </tr>\n",
       "    <tr>\n",
       "      <th>25%</th>\n",
       "      <td>22.750000</td>\n",
       "      <td>3.000000</td>\n",
       "      <td>-4.000000</td>\n",
       "      <td>-2.000000</td>\n",
       "      <td>-117.250000</td>\n",
       "      <td>-39.250000</td>\n",
       "      <td>-13.000000</td>\n",
       "      <td>-1.000000</td>\n",
       "    </tr>\n",
       "    <tr>\n",
       "      <th>50%</th>\n",
       "      <td>44.500000</td>\n",
       "      <td>7.000000</td>\n",
       "      <td>-1.000000</td>\n",
       "      <td>1.000000</td>\n",
       "      <td>46.000000</td>\n",
       "      <td>-9.000000</td>\n",
       "      <td>-3.000000</td>\n",
       "      <td>0.000000</td>\n",
       "    </tr>\n",
       "    <tr>\n",
       "      <th>75%</th>\n",
       "      <td>66.250000</td>\n",
       "      <td>11.000000</td>\n",
       "      <td>3.000000</td>\n",
       "      <td>11.000000</td>\n",
       "      <td>60.000000</td>\n",
       "      <td>-1.000000</td>\n",
       "      <td>3.000000</td>\n",
       "      <td>2.000000</td>\n",
       "    </tr>\n",
       "    <tr>\n",
       "      <th>max</th>\n",
       "      <td>88.000000</td>\n",
       "      <td>14.000000</td>\n",
       "      <td>342.000000</td>\n",
       "      <td>236.000000</td>\n",
       "      <td>157.000000</td>\n",
       "      <td>686.000000</td>\n",
       "      <td>601.000000</td>\n",
       "      <td>123.000000</td>\n",
       "    </tr>\n",
       "  </tbody>\n",
       "</table>\n",
       "</div>"
      ],
      "text/plain": [
       "                id         time          F_x          F_y          F_z  \\\n",
       "count  1320.000000  1320.000000  1320.000000  1320.000000  1320.000000   \n",
       "mean     44.500000     7.000000    -2.345455     8.913636  -128.214394   \n",
       "std      25.411399     4.322131    50.367960    45.845475   346.816091   \n",
       "min       1.000000     0.000000  -260.000000  -353.000000 -1547.000000   \n",
       "25%      22.750000     3.000000    -4.000000    -2.000000  -117.250000   \n",
       "50%      44.500000     7.000000    -1.000000     1.000000    46.000000   \n",
       "75%      66.250000    11.000000     3.000000    11.000000    60.000000   \n",
       "max      88.000000    14.000000   342.000000   236.000000   157.000000   \n",
       "\n",
       "               T_x          T_y          T_z  \n",
       "count  1320.000000  1320.000000  1320.000000  \n",
       "mean    -39.028030    -4.517424     0.868182  \n",
       "std     147.269399   101.609308    18.317250  \n",
       "min    -672.000000  -646.000000  -137.000000  \n",
       "25%     -39.250000   -13.000000    -1.000000  \n",
       "50%      -9.000000    -3.000000     0.000000  \n",
       "75%      -1.000000     3.000000     2.000000  \n",
       "max     686.000000   601.000000   123.000000  "
      ]
     },
     "execution_count": 3,
     "metadata": {},
     "output_type": "execute_result"
    }
   ],
   "source": [
    "timeseries.describe()"
   ]
  },
  {
   "cell_type": "code",
   "execution_count": 4,
   "metadata": {},
   "outputs": [
    {
     "data": {
      "text/plain": [
       "1    True\n",
       "2    True\n",
       "3    True\n",
       "4    True\n",
       "5    True\n",
       "dtype: bool"
      ]
     },
     "execution_count": 4,
     "metadata": {},
     "output_type": "execute_result"
    }
   ],
   "source": [
    "y.head()"
   ]
  },
  {
   "cell_type": "code",
   "execution_count": 5,
   "metadata": {},
   "outputs": [
    {
     "data": {
      "text/html": [
       "<div>\n",
       "<style scoped>\n",
       "    .dataframe tbody tr th:only-of-type {\n",
       "        vertical-align: middle;\n",
       "    }\n",
       "\n",
       "    .dataframe tbody tr th {\n",
       "        vertical-align: top;\n",
       "    }\n",
       "\n",
       "    .dataframe thead th {\n",
       "        text-align: right;\n",
       "    }\n",
       "</style>\n",
       "<table border=\"1\" class=\"dataframe\">\n",
       "  <thead>\n",
       "    <tr style=\"text-align: right;\">\n",
       "      <th></th>\n",
       "      <th>id</th>\n",
       "      <th>time</th>\n",
       "      <th>F_x</th>\n",
       "      <th>F_y</th>\n",
       "      <th>F_z</th>\n",
       "      <th>T_x</th>\n",
       "      <th>T_y</th>\n",
       "      <th>T_z</th>\n",
       "    </tr>\n",
       "  </thead>\n",
       "  <tbody>\n",
       "    <tr>\n",
       "      <th>count</th>\n",
       "      <td>1320.000000</td>\n",
       "      <td>1320.000000</td>\n",
       "      <td>1320.000000</td>\n",
       "      <td>1320.000000</td>\n",
       "      <td>1320.000000</td>\n",
       "      <td>1320.000000</td>\n",
       "      <td>1320.000000</td>\n",
       "      <td>1320.000000</td>\n",
       "    </tr>\n",
       "    <tr>\n",
       "      <th>mean</th>\n",
       "      <td>44.500000</td>\n",
       "      <td>7.000000</td>\n",
       "      <td>-2.345455</td>\n",
       "      <td>8.913636</td>\n",
       "      <td>-128.214394</td>\n",
       "      <td>-39.028030</td>\n",
       "      <td>-4.517424</td>\n",
       "      <td>0.868182</td>\n",
       "    </tr>\n",
       "    <tr>\n",
       "      <th>std</th>\n",
       "      <td>25.411399</td>\n",
       "      <td>4.322131</td>\n",
       "      <td>50.367960</td>\n",
       "      <td>45.845475</td>\n",
       "      <td>346.816091</td>\n",
       "      <td>147.269399</td>\n",
       "      <td>101.609308</td>\n",
       "      <td>18.317250</td>\n",
       "    </tr>\n",
       "    <tr>\n",
       "      <th>min</th>\n",
       "      <td>1.000000</td>\n",
       "      <td>0.000000</td>\n",
       "      <td>-260.000000</td>\n",
       "      <td>-353.000000</td>\n",
       "      <td>-1547.000000</td>\n",
       "      <td>-672.000000</td>\n",
       "      <td>-646.000000</td>\n",
       "      <td>-137.000000</td>\n",
       "    </tr>\n",
       "    <tr>\n",
       "      <th>25%</th>\n",
       "      <td>22.750000</td>\n",
       "      <td>3.000000</td>\n",
       "      <td>-4.000000</td>\n",
       "      <td>-2.000000</td>\n",
       "      <td>-117.250000</td>\n",
       "      <td>-39.250000</td>\n",
       "      <td>-13.000000</td>\n",
       "      <td>-1.000000</td>\n",
       "    </tr>\n",
       "    <tr>\n",
       "      <th>50%</th>\n",
       "      <td>44.500000</td>\n",
       "      <td>7.000000</td>\n",
       "      <td>-1.000000</td>\n",
       "      <td>1.000000</td>\n",
       "      <td>46.000000</td>\n",
       "      <td>-9.000000</td>\n",
       "      <td>-3.000000</td>\n",
       "      <td>0.000000</td>\n",
       "    </tr>\n",
       "    <tr>\n",
       "      <th>75%</th>\n",
       "      <td>66.250000</td>\n",
       "      <td>11.000000</td>\n",
       "      <td>3.000000</td>\n",
       "      <td>11.000000</td>\n",
       "      <td>60.000000</td>\n",
       "      <td>-1.000000</td>\n",
       "      <td>3.000000</td>\n",
       "      <td>2.000000</td>\n",
       "    </tr>\n",
       "    <tr>\n",
       "      <th>max</th>\n",
       "      <td>88.000000</td>\n",
       "      <td>14.000000</td>\n",
       "      <td>342.000000</td>\n",
       "      <td>236.000000</td>\n",
       "      <td>157.000000</td>\n",
       "      <td>686.000000</td>\n",
       "      <td>601.000000</td>\n",
       "      <td>123.000000</td>\n",
       "    </tr>\n",
       "  </tbody>\n",
       "</table>\n",
       "</div>"
      ],
      "text/plain": [
       "                id         time          F_x          F_y          F_z  \\\n",
       "count  1320.000000  1320.000000  1320.000000  1320.000000  1320.000000   \n",
       "mean     44.500000     7.000000    -2.345455     8.913636  -128.214394   \n",
       "std      25.411399     4.322131    50.367960    45.845475   346.816091   \n",
       "min       1.000000     0.000000  -260.000000  -353.000000 -1547.000000   \n",
       "25%      22.750000     3.000000    -4.000000    -2.000000  -117.250000   \n",
       "50%      44.500000     7.000000    -1.000000     1.000000    46.000000   \n",
       "75%      66.250000    11.000000     3.000000    11.000000    60.000000   \n",
       "max      88.000000    14.000000   342.000000   236.000000   157.000000   \n",
       "\n",
       "               T_x          T_y          T_z  \n",
       "count  1320.000000  1320.000000  1320.000000  \n",
       "mean    -39.028030    -4.517424     0.868182  \n",
       "std     147.269399   101.609308    18.317250  \n",
       "min    -672.000000  -646.000000  -137.000000  \n",
       "25%     -39.250000   -13.000000    -1.000000  \n",
       "50%      -9.000000    -3.000000     0.000000  \n",
       "75%      -1.000000     3.000000     2.000000  \n",
       "max     686.000000   601.000000   123.000000  "
      ]
     },
     "execution_count": 5,
     "metadata": {},
     "output_type": "execute_result"
    }
   ],
   "source": [
    "import pandas as pd\n",
    "import numpy as np\n",
    "timeseries_csv = pd.read_csv('load_robot_execution_failures_timeseries.csv')\n",
    "timeseries_csv.describe()"
   ]
  },
  {
   "cell_type": "code",
   "execution_count": 6,
   "metadata": {},
   "outputs": [
    {
     "data": {
      "text/plain": [
       "1    True\n",
       "2    True\n",
       "3    True\n",
       "4    True\n",
       "5    True\n",
       "dtype: bool"
      ]
     },
     "execution_count": 6,
     "metadata": {},
     "output_type": "execute_result"
    }
   ],
   "source": [
    "y_csv = pd.read_csv('load_robot_execution_failures_y.csv',usecols = ['index','value'])\n",
    "y_csv= pd.Series(np.array(y_csv['value']).tolist(),index =np.array(y_csv['index']).tolist())\n",
    "y_csv.head()"
   ]
  },
  {
   "cell_type": "markdown",
   "metadata": {},
   "source": [
    "# 特征拓展"
   ]
  },
  {
   "cell_type": "code",
   "execution_count": 7,
   "metadata": {},
   "outputs": [
    {
     "name": "stderr",
     "output_type": "stream",
     "text": [
      "Feature Extraction: 100%|██████████████████████████████████████████████████████████████| 20/20 [00:17<00:00,  1.14it/s]\n"
     ]
    },
    {
     "data": {
      "text/plain": [
       "(88, 4674)"
      ]
     },
     "execution_count": 7,
     "metadata": {},
     "output_type": "execute_result"
    }
   ],
   "source": [
    "from tsfresh.feature_extraction import extract_features\n",
    "extracted_features_0 = extract_features(timeseries, column_id=\"id\", column_sort=\"time\")\n",
    "extracted_features_0.shape"
   ]
  },
  {
   "cell_type": "code",
   "execution_count": 8,
   "metadata": {},
   "outputs": [
    {
     "name": "stderr",
     "output_type": "stream",
     "text": [
      "Feature Extraction: 100%|██████████████████████████████████████████████████████████████| 20/20 [00:15<00:00,  1.26it/s]\n"
     ]
    },
    {
     "data": {
      "text/plain": [
       "(88, 4674)"
      ]
     },
     "execution_count": 8,
     "metadata": {},
     "output_type": "execute_result"
    }
   ],
   "source": [
    "from tsfresh.feature_extraction import extract_features, ComprehensiveFCParameters\n",
    "settings = ComprehensiveFCParameters()\n",
    "extracted_features_1 = extract_features(timeseries, column_id=\"id\", column_sort=\"time\",default_fc_parameters=settings)\n",
    "extracted_features_1.shape"
   ]
  },
  {
   "cell_type": "code",
   "execution_count": 9,
   "metadata": {},
   "outputs": [
    {
     "name": "stderr",
     "output_type": "stream",
     "text": [
      "Feature Extraction: 100%|██████████████████████████████████████████████████████████████| 20/20 [00:19<00:00,  1.04it/s]\n"
     ]
    },
    {
     "data": {
      "text/plain": [
       "(88, 4638)"
      ]
     },
     "execution_count": 9,
     "metadata": {},
     "output_type": "execute_result"
    }
   ],
   "source": [
    "from tsfresh.feature_extraction import extract_features, EfficientFCParameters\n",
    "settings = EfficientFCParameters()\n",
    "extracted_features_2 = extract_features(timeseries, column_id=\"id\", column_sort=\"time\",default_fc_parameters=settings)\n",
    "extracted_features_2.shape"
   ]
  },
  {
   "cell_type": "code",
   "execution_count": 10,
   "metadata": {},
   "outputs": [
    {
     "name": "stderr",
     "output_type": "stream",
     "text": [
      "Feature Extraction: 100%|██████████████████████████████████████████████████████████████| 20/20 [00:04<00:00,  4.96it/s]\n"
     ]
    },
    {
     "data": {
      "text/plain": [
       "(88, 48)"
      ]
     },
     "execution_count": 10,
     "metadata": {},
     "output_type": "execute_result"
    }
   ],
   "source": [
    "from tsfresh.feature_extraction import extract_features, MinimalFCParameters\n",
    "settings = MinimalFCParameters()\n",
    "extracted_features_3 = extract_features(timeseries, column_id=\"id\", column_sort=\"time\",default_fc_parameters=settings)\n",
    "extracted_features_3.shape"
   ]
  },
  {
   "cell_type": "markdown",
   "metadata": {},
   "source": [
    "# 特征过滤"
   ]
  },
  {
   "cell_type": "code",
   "execution_count": 11,
   "metadata": {},
   "outputs": [
    {
     "name": "stderr",
     "output_type": "stream",
     "text": [
      "d:\\program files\\python37\\lib\\site-packages\\tsfresh\\utilities\\dataframe_functions.py:172: RuntimeWarning: The columns ['F_x__partial_autocorrelation__lag_7'\n",
      " 'F_x__partial_autocorrelation__lag_8'\n",
      " 'F_x__partial_autocorrelation__lag_9' ...\n",
      " 'T_z__agg_linear_trend__attr_\"stderr\"__chunk_len_50__f_agg_\"min\"'\n",
      " 'T_z__agg_linear_trend__attr_\"stderr\"__chunk_len_50__f_agg_\"mean\"'\n",
      " 'T_z__agg_linear_trend__attr_\"stderr\"__chunk_len_50__f_agg_\"var\"'] did not have any finite values. Filling with zeros.\n",
      "  df.iloc[:, np.where(is_col_non_finite)[0]].columns.values), RuntimeWarning)\n"
     ]
    },
    {
     "data": {
      "text/plain": [
       "(88, 676)"
      ]
     },
     "execution_count": 11,
     "metadata": {},
     "output_type": "execute_result"
    }
   ],
   "source": [
    "from tsfresh import select_features\n",
    "from tsfresh.utilities.dataframe_functions import impute\n",
    "impute(extracted_features_0)\n",
    "features_filtered_0 = select_features(extracted_features_0, y) #特征选择\n",
    "features_filtered_0.shape"
   ]
  },
  {
   "cell_type": "code",
   "execution_count": 12,
   "metadata": {},
   "outputs": [
    {
     "name": "stderr",
     "output_type": "stream",
     "text": [
      "d:\\program files\\python37\\lib\\site-packages\\tsfresh\\utilities\\dataframe_functions.py:172: RuntimeWarning: The columns ['F_x__partial_autocorrelation__lag_7'\n",
      " 'F_x__partial_autocorrelation__lag_8'\n",
      " 'F_x__partial_autocorrelation__lag_9' ...\n",
      " 'T_z__agg_linear_trend__attr_\"stderr\"__chunk_len_50__f_agg_\"min\"'\n",
      " 'T_z__agg_linear_trend__attr_\"stderr\"__chunk_len_50__f_agg_\"mean\"'\n",
      " 'T_z__agg_linear_trend__attr_\"stderr\"__chunk_len_50__f_agg_\"var\"'] did not have any finite values. Filling with zeros.\n",
      "  df.iloc[:, np.where(is_col_non_finite)[0]].columns.values), RuntimeWarning)\n"
     ]
    },
    {
     "data": {
      "text/plain": [
       "(88, 676)"
      ]
     },
     "execution_count": 12,
     "metadata": {},
     "output_type": "execute_result"
    }
   ],
   "source": [
    "from tsfresh import select_features\n",
    "from tsfresh.utilities.dataframe_functions import impute\n",
    "impute(extracted_features_1)\n",
    "features_filtered_1 = select_features(extracted_features_1, y) #特征选择\n",
    "features_filtered_1.shape"
   ]
  },
  {
   "cell_type": "code",
   "execution_count": 13,
   "metadata": {},
   "outputs": [
    {
     "name": "stderr",
     "output_type": "stream",
     "text": [
      "d:\\program files\\python37\\lib\\site-packages\\tsfresh\\utilities\\dataframe_functions.py:172: RuntimeWarning: The columns ['F_x__partial_autocorrelation__lag_7'\n",
      " 'F_x__partial_autocorrelation__lag_8'\n",
      " 'F_x__partial_autocorrelation__lag_9' ...\n",
      " 'T_z__agg_linear_trend__attr_\"stderr\"__chunk_len_50__f_agg_\"min\"'\n",
      " 'T_z__agg_linear_trend__attr_\"stderr\"__chunk_len_50__f_agg_\"mean\"'\n",
      " 'T_z__agg_linear_trend__attr_\"stderr\"__chunk_len_50__f_agg_\"var\"'] did not have any finite values. Filling with zeros.\n",
      "  df.iloc[:, np.where(is_col_non_finite)[0]].columns.values), RuntimeWarning)\n"
     ]
    },
    {
     "data": {
      "text/plain": [
       "(88, 658)"
      ]
     },
     "execution_count": 13,
     "metadata": {},
     "output_type": "execute_result"
    }
   ],
   "source": [
    "from tsfresh import select_features\n",
    "from tsfresh.utilities.dataframe_functions import impute\n",
    "impute(extracted_features_2)\n",
    "features_filtered_2 = select_features(extracted_features_2, y) #特征选择\n",
    "features_filtered_2.shape"
   ]
  },
  {
   "cell_type": "code",
   "execution_count": 14,
   "metadata": {},
   "outputs": [
    {
     "data": {
      "text/plain": [
       "(88, 24)"
      ]
     },
     "execution_count": 14,
     "metadata": {},
     "output_type": "execute_result"
    }
   ],
   "source": [
    "from tsfresh import select_features\n",
    "from tsfresh.utilities.dataframe_functions import impute\n",
    "impute(extracted_features_3)\n",
    "features_filtered_3 = select_features(extracted_features_3, y) #特征选择\n",
    "features_filtered_3.shape"
   ]
  },
  {
   "cell_type": "markdown",
   "metadata": {},
   "source": [
    "# 特征拓展和过滤同时进行"
   ]
  },
  {
   "cell_type": "code",
   "execution_count": 15,
   "metadata": {},
   "outputs": [
    {
     "name": "stderr",
     "output_type": "stream",
     "text": [
      "Feature Extraction: 100%|██████████████████████████████████████████████████████████████| 20/20 [00:16<00:00,  1.18it/s]\n"
     ]
    },
    {
     "data": {
      "text/plain": [
       "(88, 676)"
      ]
     },
     "execution_count": 15,
     "metadata": {},
     "output_type": "execute_result"
    }
   ],
   "source": [
    "from tsfresh import extract_relevant_features\n",
    "features_filtered_direct_0 = extract_relevant_features(timeseries,y, column_id=\"id\", column_sort=\"time\")\n",
    "features_filtered_direct_0.shape"
   ]
  },
  {
   "cell_type": "code",
   "execution_count": 16,
   "metadata": {},
   "outputs": [
    {
     "name": "stderr",
     "output_type": "stream",
     "text": [
      "Feature Extraction: 100%|██████████████████████████████████████████████████████████████| 20/20 [00:17<00:00,  1.16it/s]\n"
     ]
    },
    {
     "data": {
      "text/plain": [
       "(88, 676)"
      ]
     },
     "execution_count": 16,
     "metadata": {},
     "output_type": "execute_result"
    }
   ],
   "source": [
    "from tsfresh.feature_extraction import ComprehensiveFCParameters\n",
    "from tsfresh import extract_relevant_features\n",
    "settings = ComprehensiveFCParameters()\n",
    "features_filtered_direct_1 = extract_relevant_features(timeseries,y, column_id=\"id\", column_sort=\"time\",default_fc_parameters=settings)\n",
    "features_filtered_direct_1.shape"
   ]
  },
  {
   "cell_type": "code",
   "execution_count": 17,
   "metadata": {},
   "outputs": [
    {
     "name": "stderr",
     "output_type": "stream",
     "text": [
      "Feature Extraction: 100%|██████████████████████████████████████████████████████████████| 20/20 [00:16<00:00,  1.20it/s]\n"
     ]
    },
    {
     "data": {
      "text/plain": [
       "(88, 658)"
      ]
     },
     "execution_count": 17,
     "metadata": {},
     "output_type": "execute_result"
    }
   ],
   "source": [
    "from tsfresh.feature_extraction import EfficientFCParameters\n",
    "from tsfresh import extract_relevant_features\n",
    "settings = EfficientFCParameters()\n",
    "features_filtered_direct_2 = extract_relevant_features(timeseries,y, column_id=\"id\", column_sort=\"time\",default_fc_parameters=settings)\n",
    "features_filtered_direct_2.shape"
   ]
  },
  {
   "cell_type": "code",
   "execution_count": 18,
   "metadata": {},
   "outputs": [
    {
     "name": "stderr",
     "output_type": "stream",
     "text": [
      "Feature Extraction: 100%|██████████████████████████████████████████████████████████████| 20/20 [00:03<00:00,  5.91it/s]\n"
     ]
    },
    {
     "data": {
      "text/plain": [
       "(88, 24)"
      ]
     },
     "execution_count": 18,
     "metadata": {},
     "output_type": "execute_result"
    }
   ],
   "source": [
    "from tsfresh.feature_extraction import MinimalFCParameters\n",
    "from tsfresh import extract_relevant_features\n",
    "settings = MinimalFCParameters()\n",
    "features_filtered_direct_3 = extract_relevant_features(timeseries,y, column_id=\"id\", column_sort=\"time\",default_fc_parameters=settings)\n",
    "features_filtered_direct_3.shape"
   ]
  }
 ],
 "metadata": {
  "kernelspec": {
   "display_name": "Python 3",
   "language": "python",
   "name": "python3"
  },
  "language_info": {
   "codemirror_mode": {
    "name": "ipython",
    "version": 3
   },
   "file_extension": ".py",
   "mimetype": "text/x-python",
   "name": "python",
   "nbconvert_exporter": "python",
   "pygments_lexer": "ipython3",
   "version": "3.7.3"
  }
 },
 "nbformat": 4,
 "nbformat_minor": 4
}
